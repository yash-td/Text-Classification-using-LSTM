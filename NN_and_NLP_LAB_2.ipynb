{
  "nbformat": 4,
  "nbformat_minor": 0,
  "metadata": {
    "colab": {
      "name": "NN and NLP LAB 2.ipynb",
      "provenance": [],
      "collapsed_sections": []
    },
    "kernelspec": {
      "name": "python3",
      "display_name": "Python 3"
    },
    "accelerator": "GPU"
  },
  "cells": [
    {
      "cell_type": "markdown",
      "metadata": {
        "id": "t_yvQBKrD8Se"
      },
      "source": [
        "# **ECS 7001 - NN & NNLP**\n",
        "\n",
        "## **Lab 2: LSTM for Text Classification**\n",
        "\n",
        "<br>\n",
        "\n",
        "**February 2nd and 3rd**\n",
        "\n",
        "In Lab 2, you trained word embeddings by casting the unsupervised learning problem as a binary classification problem (i.e. using the skip-gram model). This week, you will build an LSTM model to classify movie reviews as either positive or negative. After training, you will extract the word embeddings learned by the model.\n",
        "\n"
      ]
    },
    {
      "cell_type": "markdown",
      "metadata": {
        "id": "Ep2X91YdJpkG"
      },
      "source": [
        "### **0. Prepare the environment**\n",
        "\n",
        "Open Google Colab or activate the virtual environment you’ve created"
      ]
    },
    {
      "cell_type": "markdown",
      "metadata": {
        "id": "w6Pi5uvTLRCo"
      },
      "source": [
        "### **1. Getting the Dataset**\n",
        "\n",
        "You will be using the imdb dataset from Lab 0. This is a dataset of 25,000 movie reviews from IMDB, labeled by sentiment - positive (1) or negative (0). \n",
        "<br>\n",
        "\n",
        "The reviews have been preprocessed, and each review is encoded as a list of word indices. Last week, you assigned the indices to the word randomly (or in order of their first appearance in the corpus) but in this preprocessed corpus, the words are indexed by overall frequency in the dataset, such that a word with index 3 occurs more frequently than a word with index 10.\n",
        "<br>\n",
        "\n",
        "In the following blocks of code in this section, we will load and visualize the data.\n"
      ]
    },
    {
      "cell_type": "code",
      "metadata": {
        "id": "xn7sWMG-KoBV"
      },
      "source": [
        "from tensorflow.keras import datasets\n",
        "\n",
        "imdb = datasets.imdb"
      ],
      "execution_count": null,
      "outputs": []
    },
    {
      "cell_type": "code",
      "metadata": {
        "id": "yCH0PmPcL83f"
      },
      "source": [
        "%%capture\n",
        "\n",
        "# we'll use the most frequent 10000 words in the vocabulary\n",
        "VOCAB_SIZE = 10000\n",
        "\n",
        "# 0 is reserved for ‘<PAD>’, 1 for ‘<START>’ and 2 for ‘<UNK>’ i.e. words not in vocabulary\n",
        "# the documentation says index_from = 3 but actually uses the value as an offset. The words\n",
        "# in the dictionary are indexed from 1 by default so, saying index_from=3 means any actual\n",
        "# words would start from 4 (1+3) and index 3 will be left unused. We use index_from=offset=2 to avoid this\n",
        "# If you want to explore this further, you may look up the source_code for load_data here\n",
        "# https://github.com/tensorflow/tensorflow/blob/v2.4.1/tensorflow/python/keras/datasets/imdb.py#L31-L162\n",
        "OFFSET = 2\n",
        "\n",
        "# for more information on the load_data method, type(help(load_data))\n",
        "(train_data,train_labels),(test_data,test_labels) = imdb.load_data(num_words=VOCAB_SIZE, index_from=OFFSET)"
      ],
      "execution_count": null,
      "outputs": []
    },
    {
      "cell_type": "markdown",
      "metadata": {
        "id": "lVgaL5JIYBRm"
      },
      "source": [
        "***Sanity Check***\n",
        "\n",
        "Each instance in the training data is a list of word indices representing the words in a movie review.\n",
        "\n",
        "Each label is 1 if that review is positive, else 0."
      ]
    },
    {
      "cell_type": "code",
      "metadata": {
        "colab": {
          "base_uri": "https://localhost:8080/"
        },
        "id": "APFWiEejv9i5",
        "outputId": "c993de00-5c44-4bfb-d0e7-a97420025829"
      },
      "source": [
        "print('Sample review:', train_data[0])"
      ],
      "execution_count": null,
      "outputs": [
        {
          "output_type": "stream",
          "name": "stdout",
          "text": [
            "Sample review: [1, 13, 21, 15, 42, 529, 972, 1621, 1384, 64, 457, 4467, 65, 3940, 3, 172, 35, 255, 4, 24, 99, 42, 837, 111, 49, 669, 2, 8, 34, 479, 283, 4, 149, 3, 171, 111, 166, 2, 335, 384, 38, 3, 171, 4535, 1110, 16, 545, 37, 12, 446, 3, 191, 49, 15, 5, 146, 2024, 18, 13, 21, 3, 1919, 4612, 468, 3, 21, 70, 86, 11, 15, 42, 529, 37, 75, 14, 12, 1246, 3, 21, 16, 514, 16, 11, 15, 625, 17, 2, 4, 61, 385, 11, 7, 315, 7, 105, 4, 3, 2222, 5243, 15, 479, 65, 3784, 32, 3, 129, 11, 15, 37, 618, 4, 24, 123, 50, 35, 134, 47, 24, 1414, 32, 5, 21, 11, 214, 27, 76, 51, 4, 13, 406, 15, 81, 2, 7, 3, 106, 116, 5951, 14, 255, 3, 2, 6, 3765, 4, 722, 35, 70, 42, 529, 475, 25, 399, 316, 45, 6, 3, 2, 1028, 12, 103, 87, 3, 380, 14, 296, 97, 31, 2070, 55, 25, 140, 5, 193, 7485, 17, 3, 225, 21, 20, 133, 475, 25, 479, 4, 143, 29, 5534, 17, 50, 35, 27, 223, 91, 24, 103, 3, 225, 64, 15, 37, 1333, 87, 11, 15, 282, 4, 15, 4471, 112, 102, 31, 14, 15, 5344, 18, 177, 31]\n"
          ]
        }
      ]
    },
    {
      "cell_type": "code",
      "metadata": {
        "id": "CwgeiaF7n_lX",
        "colab": {
          "base_uri": "https://localhost:8080/"
        },
        "outputId": "06a307ba-8c0a-41d0-c97f-6a15d34cddbb"
      },
      "source": [
        "print('\\n Sample label:', train_labels[0])"
      ],
      "execution_count": null,
      "outputs": [
        {
          "output_type": "stream",
          "name": "stdout",
          "text": [
            "\n",
            " Sample label: 1\n"
          ]
        }
      ]
    },
    {
      "cell_type": "markdown",
      "metadata": {
        "id": "4c14vElNvMGX"
      },
      "source": [
        "### **2. Readying the Inputs for the LSTM**\n",
        "\n",
        "The movie reviews are of different lengths. The standard way of dealing with varying length inputs is to ***pad*** or ***truncate*** each sentence to a fixed length (which we choose heuristically). \n",
        "\n",
        "Keras provides a way to do this.  In this section, you will use the keras.preprocessing.sequence method <pad_sequences> handle padding and truncating.\n",
        "\n",
        "**Hints**\n",
        "\n",
        "*  help(pad_sequences) will give you more information about how this works.\n",
        "*  You can experiment with 'pre' vs 'post' padding/truncating. In practice, 'pre' padding is more effective for our purposes; can you hypothesize about why this is?\n",
        "*  Since we have reserved 0 for \\<PAD\\>, your pad value should be set to 0.\n",
        "*  The maximum length has been specified below as MAX_LENGTH."
      ]
    },
    {
      "cell_type": "code",
      "metadata": {
        "id": "7XPwN_COagT9"
      },
      "source": [
        "from keras.preprocessing.sequence import pad_sequences\n",
        "\n",
        "\n",
        "MAX_LENGHT = 500\n",
        "\n",
        "# YOUR CODE GOES HERE\n",
        "padded_train_data = pad_sequences(train_data, maxlen=MAX_LENGHT)\n",
        "padded_test_data = pad_sequences(test_data, maxlen=MAX_LENGHT)"
      ],
      "execution_count": null,
      "outputs": []
    },
    {
      "cell_type": "markdown",
      "metadata": {
        "id": "RhrUvhC2dO87"
      },
      "source": [
        "***Sanity Check***\n",
        "\n",
        "For the first training example, print its length and the padded sequence to see the effect of your padding process. \n",
        "\n",
        "PS: Pre-padding was used for the output you see below."
      ]
    },
    {
      "cell_type": "code",
      "metadata": {
        "colab": {
          "base_uri": "https://localhost:8080/"
        },
        "id": "DZb7keBfdKc_",
        "outputId": "fd78c797-7b2d-4a3e-9ac3-0db9003abb73"
      },
      "source": [
        "print('Length of sample train_data before preprocessing:', len(train_data[0]))\n",
        "print('Length of sample train_data after preprocessing:', len(padded_train_data[0]))\n",
        "print('Sample train data:', padded_train_data[0])"
      ],
      "execution_count": null,
      "outputs": [
        {
          "output_type": "stream",
          "name": "stdout",
          "text": [
            "Length of sample train_data before preprocessing: 218\n",
            "Length of sample train_data after preprocessing: 500\n",
            "Sample train data: [   0    0    0    0    0    0    0    0    0    0    0    0    0    0\n",
            "    0    0    0    0    0    0    0    0    0    0    0    0    0    0\n",
            "    0    0    0    0    0    0    0    0    0    0    0    0    0    0\n",
            "    0    0    0    0    0    0    0    0    0    0    0    0    0    0\n",
            "    0    0    0    0    0    0    0    0    0    0    0    0    0    0\n",
            "    0    0    0    0    0    0    0    0    0    0    0    0    0    0\n",
            "    0    0    0    0    0    0    0    0    0    0    0    0    0    0\n",
            "    0    0    0    0    0    0    0    0    0    0    0    0    0    0\n",
            "    0    0    0    0    0    0    0    0    0    0    0    0    0    0\n",
            "    0    0    0    0    0    0    0    0    0    0    0    0    0    0\n",
            "    0    0    0    0    0    0    0    0    0    0    0    0    0    0\n",
            "    0    0    0    0    0    0    0    0    0    0    0    0    0    0\n",
            "    0    0    0    0    0    0    0    0    0    0    0    0    0    0\n",
            "    0    0    0    0    0    0    0    0    0    0    0    0    0    0\n",
            "    0    0    0    0    0    0    0    0    0    0    0    0    0    0\n",
            "    0    0    0    0    0    0    0    0    0    0    0    0    0    0\n",
            "    0    0    0    0    0    0    0    0    0    0    0    0    0    0\n",
            "    0    0    0    0    0    0    0    0    0    0    0    0    0    0\n",
            "    0    0    0    0    0    0    0    0    0    0    0    0    0    0\n",
            "    0    0    0    0    0    0    0    0    0    0    0    0    0    0\n",
            "    0    0    1   13   21   15   42  529  972 1621 1384   64  457 4467\n",
            "   65 3940    3  172   35  255    4   24   99   42  837  111   49  669\n",
            "    2    8   34  479  283    4  149    3  171  111  166    2  335  384\n",
            "   38    3  171 4535 1110   16  545   37   12  446    3  191   49   15\n",
            "    5  146 2024   18   13   21    3 1919 4612  468    3   21   70   86\n",
            "   11   15   42  529   37   75   14   12 1246    3   21   16  514   16\n",
            "   11   15  625   17    2    4   61  385   11    7  315    7  105    4\n",
            "    3 2222 5243   15  479   65 3784   32    3  129   11   15   37  618\n",
            "    4   24  123   50   35  134   47   24 1414   32    5   21   11  214\n",
            "   27   76   51    4   13  406   15   81    2    7    3  106  116 5951\n",
            "   14  255    3    2    6 3765    4  722   35   70   42  529  475   25\n",
            "  399  316   45    6    3    2 1028   12  103   87    3  380   14  296\n",
            "   97   31 2070   55   25  140    5  193 7485   17    3  225   21   20\n",
            "  133  475   25  479    4  143   29 5534   17   50   35   27  223   91\n",
            "   24  103    3  225   64   15   37 1333   87   11   15  282    4   15\n",
            " 4471  112  102   31   14   15 5344   18  177   31]\n"
          ]
        }
      ]
    },
    {
      "cell_type": "markdown",
      "metadata": {
        "id": "rghchHA66d-V"
      },
      "source": [
        "### **3. Building the Model**\n",
        "\n",
        "In this section, you will use the keras Model API to build a classification model.\n",
        "\n",
        "*   The first step is to tell the model what sort of input to expect using the keras \\<Input\\> layer \n",
        "*   The second step is to add an embedding layer like we did last week. \n",
        "This embedding layer creates a lookup table of the form {word:embedding} for each of the unique words in our corpus. Use EMBED_SIZE = 100 (i.e each word is represented by a 100D vector such that each movie review is 500 X 100 in dimension.  Don't forget to set mask_zero=True since we are using 0 index as out padding.\n",
        "*  The third step is to add an LSTM with 100 units. By leaving 'return_sequences' as False, the output of this model will be the output of the final time step of the LSTM. https://keras.io/api/layers/recurrent_layers/lstm/ \n",
        "*  The final layer of the model is a fully connected (Dense) layer. Can you figure out what activation function would be appropriate for this layer given the binary nature of the task?\n",
        "*  The model should be compiled with a 'binary_crossentropy' loss function, an 'adam' optimizer. We also want to visualize the model accuracy during training so the 'metrics' parameter of the compile method should be set to ['accuracy']."
      ]
    },
    {
      "cell_type": "code",
      "metadata": {
        "id": "L1EHilHl1l2m"
      },
      "source": [
        "import tensorflow as tf\n",
        "from keras.layers import Input, Embedding, Dense, LSTM\n",
        "from keras.models import Model\n",
        "\n",
        "EMBED_SIZE = 100\n",
        "\n",
        "# The input is an array of target indices e.g. [2, 45, 7, 23,...9]\n",
        "input = Input((500,), dtype='int32')\n",
        "\n",
        "\n",
        "# feed the words into the model using the Keras <Embedding> layer. This is the hidden layer \n",
        "# from whose weights we will get the word embeddings.\n",
        "embedding = Embedding(VOCAB_SIZE, EMBED_SIZE, name='target_embed_layer',\n",
        "                        \tembeddings_initializer='glorot_uniform',\n",
        "                         \tinput_length=500, mask_zero=True)(input)\n",
        "\n",
        "\n",
        "\n",
        "lstm = tf.keras.layers.LSTM(100, return_sequences=False)(embedding)\n",
        "\n",
        "output1 = Dense(1, activation='relu')(lstm)\n",
        "output2 = Dense(1, activation='sigmoid')(lstm)\n",
        "output3 = Dense(1, activation='softmax')(lstm)\n",
        "\n",
        "model1 = Model(inputs=[input], outputs=[output1])\n",
        "model1.compile(loss='binary_crossentropy', optimizer='adam', metrics=['accuracy'])\n",
        "\n",
        "model2 = Model(inputs=[input], outputs=[output2])\n",
        "model2.compile(loss='binary_crossentropy', optimizer='adam', metrics=['accuracy'])\n",
        "\n",
        "model3 = Model(inputs=[input], outputs=[output3])\n",
        "model3.compile(loss='binary_crossentropy', optimizer='adam', metrics=['accuracy'])\n"
      ],
      "execution_count": null,
      "outputs": []
    },
    {
      "cell_type": "markdown",
      "metadata": {
        "id": "6OMqaFQusbp-"
      },
      "source": [
        "***Sanity Check***\n",
        "\n",
        "Print the model summary and visualize it using vis_utils."
      ]
    },
    {
      "cell_type": "code",
      "metadata": {
        "colab": {
          "base_uri": "https://localhost:8080/"
        },
        "id": "PB7Gv4V6raWd",
        "outputId": "b0bb1cb9-79ed-425e-842e-b8d00ad27d82"
      },
      "source": [
        "model1.summary()"
      ],
      "execution_count": null,
      "outputs": [
        {
          "output_type": "stream",
          "name": "stdout",
          "text": [
            "Model: \"model\"\n",
            "_________________________________________________________________\n",
            " Layer (type)                Output Shape              Param #   \n",
            "=================================================================\n",
            " input_1 (InputLayer)        [(None, 500)]             0         \n",
            "                                                                 \n",
            " target_embed_layer (Embeddi  (None, 500, 100)         1000000   \n",
            " ng)                                                             \n",
            "                                                                 \n",
            " lstm (LSTM)                 (None, 100)               80400     \n",
            "                                                                 \n",
            " dense (Dense)               (None, 1)                 101       \n",
            "                                                                 \n",
            "=================================================================\n",
            "Total params: 1,080,501\n",
            "Trainable params: 1,080,501\n",
            "Non-trainable params: 0\n",
            "_________________________________________________________________\n"
          ]
        }
      ]
    },
    {
      "cell_type": "code",
      "metadata": {
        "colab": {
          "base_uri": "https://localhost:8080/",
          "height": 359
        },
        "id": "ZTq8GsWgsqCe",
        "outputId": "1b47e7e9-7e42-44ed-f7f8-adc57ac1cfb9"
      },
      "source": [
        "from IPython.display import SVG\n",
        "from keras.utils import vis_utils\n",
        "SVG(vis_utils.model_to_dot(model1, show_shapes=True, show_layer_names=True, dpi=60).create(prog='dot', format='svg'))  \n"
      ],
      "execution_count": null,
      "outputs": [
        {
          "output_type": "execute_result",
          "data": {
            "text/plain": [
              "<IPython.core.display.SVG object>"
            ],
            "image/svg+xml": "<svg height=\"253pt\" viewBox=\"0.00 0.00 399.00 304.00\" width=\"332pt\" xmlns=\"http://www.w3.org/2000/svg\" xmlns:xlink=\"http://www.w3.org/1999/xlink\">\n<g class=\"graph\" id=\"graph0\" transform=\"scale(.8333 .8333) rotate(0) translate(4 300)\">\n<title>G</title>\n<polygon fill=\"#ffffff\" points=\"-4,4 -4,-300 395,-300 395,4 -4,4\" stroke=\"transparent\"/>\n<!-- 139904022740752 -->\n<g class=\"node\" id=\"node1\">\n<title>139904022740752</title>\n<polygon fill=\"none\" points=\"30.5,-249.5 30.5,-295.5 360.5,-295.5 360.5,-249.5 30.5,-249.5\" stroke=\"#000000\"/>\n<text fill=\"#000000\" font-family=\"Times,serif\" font-size=\"14.00\" text-anchor=\"middle\" x=\"70.5\" y=\"-280.3\">input_1</text>\n<polyline fill=\"none\" points=\"30.5,-272.5 110.5,-272.5 \" stroke=\"#000000\"/>\n<text fill=\"#000000\" font-family=\"Times,serif\" font-size=\"14.00\" text-anchor=\"middle\" x=\"70.5\" y=\"-257.3\">InputLayer</text>\n<polyline fill=\"none\" points=\"110.5,-249.5 110.5,-295.5 \" stroke=\"#000000\"/>\n<text fill=\"#000000\" font-family=\"Times,serif\" font-size=\"14.00\" text-anchor=\"middle\" x=\"139.5\" y=\"-280.3\">input:</text>\n<polyline fill=\"none\" points=\"110.5,-272.5 168.5,-272.5 \" stroke=\"#000000\"/>\n<text fill=\"#000000\" font-family=\"Times,serif\" font-size=\"14.00\" text-anchor=\"middle\" x=\"139.5\" y=\"-257.3\">output:</text>\n<polyline fill=\"none\" points=\"168.5,-249.5 168.5,-295.5 \" stroke=\"#000000\"/>\n<text fill=\"#000000\" font-family=\"Times,serif\" font-size=\"14.00\" text-anchor=\"middle\" x=\"216.5\" y=\"-268.8\">[(None, 500)]</text>\n<polyline fill=\"none\" points=\"264.5,-249.5 264.5,-295.5 \" stroke=\"#000000\"/>\n<text fill=\"#000000\" font-family=\"Times,serif\" font-size=\"14.00\" text-anchor=\"middle\" x=\"312.5\" y=\"-268.8\">[(None, 500)]</text>\n</g>\n<!-- 139904035972240 -->\n<g class=\"node\" id=\"node2\">\n<title>139904035972240</title>\n<polygon fill=\"none\" points=\"0,-166.5 0,-212.5 391,-212.5 391,-166.5 0,-166.5\" stroke=\"#000000\"/>\n<text fill=\"#000000\" font-family=\"Times,serif\" font-size=\"14.00\" text-anchor=\"middle\" x=\"64.5\" y=\"-197.3\">target_embed_layer</text>\n<polyline fill=\"none\" points=\"0,-189.5 129,-189.5 \" stroke=\"#000000\"/>\n<text fill=\"#000000\" font-family=\"Times,serif\" font-size=\"14.00\" text-anchor=\"middle\" x=\"64.5\" y=\"-174.3\">Embedding</text>\n<polyline fill=\"none\" points=\"129,-166.5 129,-212.5 \" stroke=\"#000000\"/>\n<text fill=\"#000000\" font-family=\"Times,serif\" font-size=\"14.00\" text-anchor=\"middle\" x=\"158\" y=\"-197.3\">input:</text>\n<polyline fill=\"none\" points=\"129,-189.5 187,-189.5 \" stroke=\"#000000\"/>\n<text fill=\"#000000\" font-family=\"Times,serif\" font-size=\"14.00\" text-anchor=\"middle\" x=\"158\" y=\"-174.3\">output:</text>\n<polyline fill=\"none\" points=\"187,-166.5 187,-212.5 \" stroke=\"#000000\"/>\n<text fill=\"#000000\" font-family=\"Times,serif\" font-size=\"14.00\" text-anchor=\"middle\" x=\"230.5\" y=\"-185.8\">(None, 500)</text>\n<polyline fill=\"none\" points=\"274,-166.5 274,-212.5 \" stroke=\"#000000\"/>\n<text fill=\"#000000\" font-family=\"Times,serif\" font-size=\"14.00\" text-anchor=\"middle\" x=\"332.5\" y=\"-185.8\">(None, 500, 100)</text>\n</g>\n<!-- 139904022740752&#45;&gt;139904035972240 -->\n<g class=\"edge\" id=\"edge1\">\n<title>139904022740752-&gt;139904035972240</title>\n<path d=\"M195.5,-249.3799C195.5,-241.1745 195.5,-231.7679 195.5,-222.8786\" fill=\"none\" stroke=\"#000000\"/>\n<polygon fill=\"#000000\" points=\"199.0001,-222.784 195.5,-212.784 192.0001,-222.784 199.0001,-222.784\" stroke=\"#000000\"/>\n</g>\n<!-- 139904047732624 -->\n<g class=\"node\" id=\"node3\">\n<title>139904047732624</title>\n<polygon fill=\"none\" points=\"36.5,-83.5 36.5,-129.5 354.5,-129.5 354.5,-83.5 36.5,-83.5\" stroke=\"#000000\"/>\n<text fill=\"#000000\" font-family=\"Times,serif\" font-size=\"14.00\" text-anchor=\"middle\" x=\"64.5\" y=\"-114.3\">lstm</text>\n<polyline fill=\"none\" points=\"36.5,-106.5 92.5,-106.5 \" stroke=\"#000000\"/>\n<text fill=\"#000000\" font-family=\"Times,serif\" font-size=\"14.00\" text-anchor=\"middle\" x=\"64.5\" y=\"-91.3\">LSTM</text>\n<polyline fill=\"none\" points=\"92.5,-83.5 92.5,-129.5 \" stroke=\"#000000\"/>\n<text fill=\"#000000\" font-family=\"Times,serif\" font-size=\"14.00\" text-anchor=\"middle\" x=\"121.5\" y=\"-114.3\">input:</text>\n<polyline fill=\"none\" points=\"92.5,-106.5 150.5,-106.5 \" stroke=\"#000000\"/>\n<text fill=\"#000000\" font-family=\"Times,serif\" font-size=\"14.00\" text-anchor=\"middle\" x=\"121.5\" y=\"-91.3\">output:</text>\n<polyline fill=\"none\" points=\"150.5,-83.5 150.5,-129.5 \" stroke=\"#000000\"/>\n<text fill=\"#000000\" font-family=\"Times,serif\" font-size=\"14.00\" text-anchor=\"middle\" x=\"209\" y=\"-102.8\">(None, 500, 100)</text>\n<polyline fill=\"none\" points=\"267.5,-83.5 267.5,-129.5 \" stroke=\"#000000\"/>\n<text fill=\"#000000\" font-family=\"Times,serif\" font-size=\"14.00\" text-anchor=\"middle\" x=\"311\" y=\"-102.8\">(None, 100)</text>\n</g>\n<!-- 139904035972240&#45;&gt;139904047732624 -->\n<g class=\"edge\" id=\"edge2\">\n<title>139904035972240-&gt;139904047732624</title>\n<path d=\"M195.5,-166.3799C195.5,-158.1745 195.5,-148.7679 195.5,-139.8786\" fill=\"none\" stroke=\"#000000\"/>\n<polygon fill=\"#000000\" points=\"199.0001,-139.784 195.5,-129.784 192.0001,-139.784 199.0001,-139.784\" stroke=\"#000000\"/>\n</g>\n<!-- 139904014447760 -->\n<g class=\"node\" id=\"node4\">\n<title>139904014447760</title>\n<polygon fill=\"none\" points=\"61,-.5 61,-46.5 330,-46.5 330,-.5 61,-.5\" stroke=\"#000000\"/>\n<text fill=\"#000000\" font-family=\"Times,serif\" font-size=\"14.00\" text-anchor=\"middle\" x=\"87\" y=\"-31.3\">dense</text>\n<polyline fill=\"none\" points=\"61,-23.5 113,-23.5 \" stroke=\"#000000\"/>\n<text fill=\"#000000\" font-family=\"Times,serif\" font-size=\"14.00\" text-anchor=\"middle\" x=\"87\" y=\"-8.3\">Dense</text>\n<polyline fill=\"none\" points=\"113,-.5 113,-46.5 \" stroke=\"#000000\"/>\n<text fill=\"#000000\" font-family=\"Times,serif\" font-size=\"14.00\" text-anchor=\"middle\" x=\"142\" y=\"-31.3\">input:</text>\n<polyline fill=\"none\" points=\"113,-23.5 171,-23.5 \" stroke=\"#000000\"/>\n<text fill=\"#000000\" font-family=\"Times,serif\" font-size=\"14.00\" text-anchor=\"middle\" x=\"142\" y=\"-8.3\">output:</text>\n<polyline fill=\"none\" points=\"171,-.5 171,-46.5 \" stroke=\"#000000\"/>\n<text fill=\"#000000\" font-family=\"Times,serif\" font-size=\"14.00\" text-anchor=\"middle\" x=\"214.5\" y=\"-19.8\">(None, 100)</text>\n<polyline fill=\"none\" points=\"258,-.5 258,-46.5 \" stroke=\"#000000\"/>\n<text fill=\"#000000\" font-family=\"Times,serif\" font-size=\"14.00\" text-anchor=\"middle\" x=\"294\" y=\"-19.8\">(None, 1)</text>\n</g>\n<!-- 139904047732624&#45;&gt;139904014447760 -->\n<g class=\"edge\" id=\"edge3\">\n<title>139904047732624-&gt;139904014447760</title>\n<path d=\"M195.5,-83.3799C195.5,-75.1745 195.5,-65.7679 195.5,-56.8786\" fill=\"none\" stroke=\"#000000\"/>\n<polygon fill=\"#000000\" points=\"199.0001,-56.784 195.5,-46.784 192.0001,-56.784 199.0001,-56.784\" stroke=\"#000000\"/>\n</g>\n</g>\n</svg>"
          },
          "metadata": {},
          "execution_count": 10
        }
      ]
    },
    {
      "cell_type": "markdown",
      "metadata": {
        "id": "WXhJNdf9TIed"
      },
      "source": [
        "### **4. Training the Model**\n",
        "\n",
        "A model can memorize the training data (this is called 'overfitting' and when it does so, it's training accuracy can continue to go up but it's accuracy on previously unseen (i.e. non-training) examples can be very poor. To ensure that this doesn't happen, researchers often intermittently check the performance of a model being trained on a held back dataset called the ***validation dataset***. This way, 'early stopping' or 'random search' can be used to select the model that will generalize best to unseen data. \n",
        "<br>\n",
        "\n",
        "\n",
        "In this lab, you will just plot training accuracy against validation accuracy to monitor the progress of your model. And, using the plot, you will theorize about what the optimal stopping point for your model should have been.\n"
      ]
    },
    {
      "cell_type": "markdown",
      "metadata": {
        "id": "LFJtD1EgvPND"
      },
      "source": [
        "**Step 1: Getting a validation dataset**\n",
        "\n",
        "Before we begin training, you will split the padded training data into training and validation data. To avoid losing too much training data, use 2000 samples (i.e 8%) for validation and the other 23000 for training.\n",
        "\n",
        "We will do this using the sklearn train_test_split function. "
      ]
    },
    {
      "cell_type": "code",
      "metadata": {
        "id": "zqHSAlOev6kB"
      },
      "source": [
        "from sklearn.model_selection import train_test_split\n",
        "\n",
        "train_x, validation_x, train_y, validation_y = train_test_split(padded_train_data, train_labels, test_size=0.08) "
      ],
      "execution_count": null,
      "outputs": []
    },
    {
      "cell_type": "markdown",
      "metadata": {
        "id": "xArEfNkX0DnN"
      },
      "source": [
        "Alternatively, we could have chosen to set validation_size=0.08 in our model.fit() function below instead of passing in a separate validation dataset."
      ]
    },
    {
      "cell_type": "markdown",
      "metadata": {
        "id": "3oXtkSBuyiWt"
      },
      "source": [
        "**Step 2: Training the model**\n",
        "\n",
        "We will use model.fit() to train the model. We will set our batch_size to 1000, which means the model will train int(23000/1000) batches each epoch. In other words, at each epoch the model will train 23 batches, each one consisting of 1000 movie reviews."
      ]
    },
    {
      "cell_type": "code",
      "metadata": {
        "colab": {
          "base_uri": "https://localhost:8080/"
        },
        "id": "Fgp3GWqiySHB",
        "outputId": "4b562855-7566-4143-b6ea-7624b5c3918b"
      },
      "source": [
        "history1 = model1.fit(train_x, train_y, epochs=6, batch_size=1000, validation_data=(validation_x, validation_y))"
      ],
      "execution_count": null,
      "outputs": [
        {
          "output_type": "stream",
          "name": "stdout",
          "text": [
            "Epoch 1/6\n",
            "23/23 [==============================] - 21s 634ms/step - loss: 1.2687 - accuracy: 0.5075 - val_loss: 0.7739 - val_accuracy: 0.5035\n",
            "Epoch 2/6\n",
            "23/23 [==============================] - 14s 598ms/step - loss: 0.8042 - accuracy: 0.4997 - val_loss: 0.7598 - val_accuracy: 0.5035\n",
            "Epoch 3/6\n",
            "23/23 [==============================] - 14s 598ms/step - loss: 0.6698 - accuracy: 0.5603 - val_loss: 0.6232 - val_accuracy: 0.7370\n",
            "Epoch 4/6\n",
            "23/23 [==============================] - 15s 639ms/step - loss: 0.5773 - accuracy: 0.7311 - val_loss: 0.5773 - val_accuracy: 0.7340\n",
            "Epoch 5/6\n",
            "23/23 [==============================] - 16s 678ms/step - loss: 0.5001 - accuracy: 0.7891 - val_loss: 0.4949 - val_accuracy: 0.7645\n",
            "Epoch 6/6\n",
            "23/23 [==============================] - 14s 608ms/step - loss: 0.4635 - accuracy: 0.8305 - val_loss: 0.5471 - val_accuracy: 0.7390\n"
          ]
        }
      ]
    },
    {
      "cell_type": "code",
      "source": [
        "history2 = model2.fit(train_x, train_y, epochs=6, batch_size=1000, validation_data=(validation_x, validation_y))"
      ],
      "metadata": {
        "colab": {
          "base_uri": "https://localhost:8080/"
        },
        "id": "xvKLhkp_bCJU",
        "outputId": "93851116-9aa6-4ea3-c2fb-48c3c2e38ac3"
      },
      "execution_count": null,
      "outputs": [
        {
          "output_type": "stream",
          "name": "stdout",
          "text": [
            "Epoch 1/6\n",
            "23/23 [==============================] - 39s 2s/step - loss: 0.6392 - accuracy: 0.6491 - val_loss: 0.5590 - val_accuracy: 0.7575\n",
            "Epoch 2/6\n",
            "23/23 [==============================] - 25s 1s/step - loss: 0.4180 - accuracy: 0.8334 - val_loss: 0.3507 - val_accuracy: 0.8530\n",
            "Epoch 3/6\n",
            "23/23 [==============================] - 23s 987ms/step - loss: 0.2725 - accuracy: 0.8943 - val_loss: 0.2922 - val_accuracy: 0.8810\n",
            "Epoch 4/6\n",
            "23/23 [==============================] - 23s 1s/step - loss: 0.1995 - accuracy: 0.9277 - val_loss: 0.2818 - val_accuracy: 0.8855\n",
            "Epoch 5/6\n",
            "23/23 [==============================] - 24s 1s/step - loss: 0.1569 - accuracy: 0.9475 - val_loss: 0.2887 - val_accuracy: 0.8860\n",
            "Epoch 6/6\n",
            "23/23 [==============================] - 23s 998ms/step - loss: 0.1282 - accuracy: 0.9602 - val_loss: 0.3284 - val_accuracy: 0.8785\n"
          ]
        }
      ]
    },
    {
      "cell_type": "code",
      "source": [
        "\n",
        "history3 = model3.fit(train_x, train_y, epochs=6, batch_size=1000, validation_data=(validation_x, validation_y))"
      ],
      "metadata": {
        "colab": {
          "base_uri": "https://localhost:8080/"
        },
        "id": "1r2oEfcqbGIc",
        "outputId": "d9d85538-34a6-4e2a-ea89-43e387606aaa"
      },
      "execution_count": null,
      "outputs": [
        {
          "output_type": "stream",
          "name": "stdout",
          "text": [
            "Epoch 1/6\n",
            "23/23 [==============================] - 19s 722ms/step - loss: 0.2645 - accuracy: 0.5003 - val_loss: 0.3244 - val_accuracy: 0.4965\n",
            "Epoch 2/6\n",
            "23/23 [==============================] - 14s 610ms/step - loss: 0.1335 - accuracy: 0.5003 - val_loss: 0.3417 - val_accuracy: 0.4965\n",
            "Epoch 3/6\n",
            "23/23 [==============================] - 14s 615ms/step - loss: 0.1119 - accuracy: 0.5003 - val_loss: 0.3464 - val_accuracy: 0.4965\n",
            "Epoch 4/6\n",
            "23/23 [==============================] - 14s 609ms/step - loss: 0.1006 - accuracy: 0.5003 - val_loss: 0.3526 - val_accuracy: 0.4965\n",
            "Epoch 5/6\n",
            "23/23 [==============================] - 14s 603ms/step - loss: 0.0912 - accuracy: 0.5003 - val_loss: 0.3812 - val_accuracy: 0.4965\n",
            "Epoch 6/6\n",
            "23/23 [==============================] - 15s 647ms/step - loss: 0.0794 - accuracy: 0.5003 - val_loss: 0.4013 - val_accuracy: 0.4965\n"
          ]
        }
      ]
    },
    {
      "cell_type": "markdown",
      "metadata": {
        "id": "2OaWng6v835A"
      },
      "source": [
        "**Step 3: Visualize the model plot**"
      ]
    },
    {
      "cell_type": "code",
      "metadata": {
        "colab": {
          "base_uri": "https://localhost:8080/"
        },
        "id": "R6xASJOM897O",
        "outputId": "479db14c-6d90-4472-8aae-eb062133fa3c"
      },
      "source": [
        "pip install plot_keras_history"
      ],
      "execution_count": null,
      "outputs": [
        {
          "output_type": "stream",
          "name": "stdout",
          "text": [
            "Collecting plot_keras_history\n",
            "  Downloading plot_keras_history-1.1.30.tar.gz (8.6 kB)\n",
            "Requirement already satisfied: matplotlib in /usr/local/lib/python3.7/dist-packages (from plot_keras_history) (3.2.2)\n",
            "Requirement already satisfied: pandas in /usr/local/lib/python3.7/dist-packages (from plot_keras_history) (1.3.5)\n",
            "Requirement already satisfied: scipy in /usr/local/lib/python3.7/dist-packages (from plot_keras_history) (1.4.1)\n",
            "Collecting sanitize_ml_labels>=1.0.28\n",
            "  Downloading sanitize_ml_labels-1.0.29.tar.gz (7.4 kB)\n",
            "Collecting compress_json\n",
            "  Downloading compress_json-1.0.4.tar.gz (4.7 kB)\n",
            "Requirement already satisfied: numpy>=1.11 in /usr/local/lib/python3.7/dist-packages (from matplotlib->plot_keras_history) (1.21.5)\n",
            "Requirement already satisfied: pyparsing!=2.0.4,!=2.1.2,!=2.1.6,>=2.0.1 in /usr/local/lib/python3.7/dist-packages (from matplotlib->plot_keras_history) (3.0.7)\n",
            "Requirement already satisfied: kiwisolver>=1.0.1 in /usr/local/lib/python3.7/dist-packages (from matplotlib->plot_keras_history) (1.3.2)\n",
            "Requirement already satisfied: python-dateutil>=2.1 in /usr/local/lib/python3.7/dist-packages (from matplotlib->plot_keras_history) (2.8.2)\n",
            "Requirement already satisfied: cycler>=0.10 in /usr/local/lib/python3.7/dist-packages (from matplotlib->plot_keras_history) (0.11.0)\n",
            "Requirement already satisfied: six>=1.5 in /usr/local/lib/python3.7/dist-packages (from python-dateutil>=2.1->matplotlib->plot_keras_history) (1.15.0)\n",
            "Requirement already satisfied: pytz>=2017.3 in /usr/local/lib/python3.7/dist-packages (from pandas->plot_keras_history) (2018.9)\n",
            "Building wheels for collected packages: plot-keras-history, sanitize-ml-labels, compress-json\n",
            "  Building wheel for plot-keras-history (setup.py) ... \u001b[?25l\u001b[?25hdone\n",
            "  Created wheel for plot-keras-history: filename=plot_keras_history-1.1.30-py3-none-any.whl size=8794 sha256=239158d14869c210d92834ae2bbb316cf056defe1ca4bc6eb124dfc9ecb7fe26\n",
            "  Stored in directory: /root/.cache/pip/wheels/b0/60/47/8c5aa37c06be5e97879ec467bc2e6a30b315d95f662c63a503\n",
            "  Building wheel for sanitize-ml-labels (setup.py) ... \u001b[?25l\u001b[?25hdone\n",
            "  Created wheel for sanitize-ml-labels: filename=sanitize_ml_labels-1.0.29-py3-none-any.whl size=7878 sha256=a26b4323cbb78a4f4437c3c381e1c27d4cbb0e34d723080d4aff760ce94a532e\n",
            "  Stored in directory: /root/.cache/pip/wheels/c2/f5/71/d1c459da10abec864a1979b449edbf37d4a82ab3e38a3625a8\n",
            "  Building wheel for compress-json (setup.py) ... \u001b[?25l\u001b[?25hdone\n",
            "  Created wheel for compress-json: filename=compress_json-1.0.4-py3-none-any.whl size=4588 sha256=ffa9310117088bf8c055b33a4ed5bb1a06d494413190096d9a7be0513cfd0d44\n",
            "  Stored in directory: /root/.cache/pip/wheels/1e/ef/1e/5d403c5632b0462471a8d26049d0c138134d0255ec60ce4c14\n",
            "Successfully built plot-keras-history sanitize-ml-labels compress-json\n",
            "Installing collected packages: compress-json, sanitize-ml-labels, plot-keras-history\n",
            "Successfully installed compress-json-1.0.4 plot-keras-history-1.1.30 sanitize-ml-labels-1.0.29\n"
          ]
        }
      ]
    },
    {
      "cell_type": "code",
      "metadata": {
        "id": "0-Qq9lwGDHVl"
      },
      "source": [
        "from plot_keras_history import plot_history\n",
        "import matplotlib.pyplot as plt"
      ],
      "execution_count": null,
      "outputs": []
    },
    {
      "cell_type": "code",
      "metadata": {
        "colab": {
          "base_uri": "https://localhost:8080/",
          "height": 385
        },
        "id": "6jS3_xzmDJmk",
        "outputId": "5968f704-5eea-450d-883f-549ed9f80ad7"
      },
      "source": [
        "plot_history(history2.history, path=\"standard.png\")\n",
        "plt.show()"
      ],
      "execution_count": null,
      "outputs": [
        {
          "output_type": "display_data",
          "data": {
            "image/png": "[encoded data removed]",
            "text/plain": [
              "<Figure size 720x360 with 2 Axes>"
            ]
          },
          "metadata": {
            "needs_background": "light"
          }
        }
      ]
    },
    {
      "cell_type": "markdown",
      "metadata": {
        "id": "8Xy45WzGCkFJ"
      },
      "source": [
        "**Based on the accuracy plot, what do you think the optimal stopping point for your model should\n",
        "have been?**"
      ]
    },
    {
      "cell_type": "markdown",
      "source": [
        "The optimal stopping point for this model is the point where the loss curve starts increasing. In the loss vs epochs graph, the loss curve keeps on decreasing till the 4th epoch (loss is minimum at 4th epoch). Thereafter, in the 5th and the 6th epochs the loss starts increasing  hence the optimal point for the model to stop is the 4th epoch (denoted by 3 on the x axis)."
      ],
      "metadata": {
        "id": "27gdwscMgbIG"
      }
    },
    {
      "cell_type": "markdown",
      "metadata": {
        "id": "uMQJAolZWVLx"
      },
      "source": [
        "### **5. Evaluating the Model on the Test Data**\n",
        "\n",
        "Evaluate the model on the padded test data using the code in the following cell block."
      ]
    },
    {
      "cell_type": "code",
      "metadata": {
        "id": "fi0JmuY-Tlsp",
        "colab": {
          "base_uri": "https://localhost:8080/"
        },
        "outputId": "436f6edd-aeb1-49c6-f09b-7af86e5617a7"
      },
      "source": [
        "# YOUR CODE TO EVALUATE THE MODEL ON TEST DATA GOES HERE\n",
        "\n",
        "results = model2.evaluate(padded_test_data, test_labels)\n",
        "print('test_loss:', results[0], 'test_accuracy:', results[1])"
      ],
      "execution_count": null,
      "outputs": [
        {
          "output_type": "stream",
          "name": "stdout",
          "text": [
            "782/782 [==============================] - 79s 99ms/step - loss: 0.3758 - accuracy: 0.8562\n",
            "test_loss: 0.37576133012771606 test_accuracy: 0.8561599850654602\n"
          ]
        }
      ]
    },
    {
      "cell_type": "markdown",
      "metadata": {
        "id": "zbOcZD6igpxy"
      },
      "source": [
        "###**6. Extracting the Word Embeddings**\n",
        "\n",
        "Extract the word embeddings from the embedding layer model like we did in the last lab. \n",
        "\n",
        "**Hints**\n",
        "\n",
        "*  You can use model.get_layer(layer_name).get_weights()[0] or model.layers[layer_number].get_weights()[0].  The layer number indicates the order in which the layers were added to the model.\n",
        "\n",
        "*  If you didn't explicitly name your layers, you can check layer names and numbers about the order from model.summary() or by calling model.layers"
      ]
    },
    {
      "cell_type": "code",
      "metadata": {
        "id": "dVG1le_LWBtq"
      },
      "source": [
        "# YOUR CODE GOES HERE\n",
        "\n",
        "word_embeddings = model2.get_layer('target_embed_layer').get_weights()[0] "
      ],
      "execution_count": null,
      "outputs": []
    },
    {
      "cell_type": "code",
      "source": [
        "model2.summary()"
      ],
      "metadata": {
        "colab": {
          "base_uri": "https://localhost:8080/"
        },
        "id": "ZTxNwOs6lBr9",
        "outputId": "00277bc6-567d-4b69-feb3-2f924b0209fa"
      },
      "execution_count": null,
      "outputs": [
        {
          "output_type": "stream",
          "name": "stdout",
          "text": [
            "Model: \"model_1\"\n",
            "_________________________________________________________________\n",
            " Layer (type)                Output Shape              Param #   \n",
            "=================================================================\n",
            " input_1 (InputLayer)        [(None, 500)]             0         \n",
            "                                                                 \n",
            " target_embed_layer (Embeddi  (None, 500, 100)         1000000   \n",
            " ng)                                                             \n",
            "                                                                 \n",
            " lstm (LSTM)                 (None, 100)               80400     \n",
            "                                                                 \n",
            " dense_1 (Dense)             (None, 1)                 101       \n",
            "                                                                 \n",
            "=================================================================\n",
            "Total params: 1,080,501\n",
            "Trainable params: 1,080,501\n",
            "Non-trainable params: 0\n",
            "_________________________________________________________________\n"
          ]
        }
      ]
    },
    {
      "cell_type": "markdown",
      "metadata": {
        "id": "fXzDQ-7IE5Ou"
      },
      "source": [
        "***Sanity Check***\n",
        "\n",
        "Print the shape of the word embeddings using the line of code below. It should return (VOCAB_SIZE, EMBED_SIZE)"
      ]
    },
    {
      "cell_type": "code",
      "metadata": {
        "colab": {
          "base_uri": "https://localhost:8080/"
        },
        "id": "swJFPaX_E4f0",
        "outputId": "4a21a2e8-0fde-43bb-c939-c2fdf797ad10"
      },
      "source": [
        "print('Shape of word_embeddings:', word_embeddings.shape)"
      ],
      "execution_count": null,
      "outputs": [
        {
          "output_type": "stream",
          "name": "stdout",
          "text": [
            "Shape of word_embeddings: (10000, 100)\n"
          ]
        }
      ]
    },
    {
      "cell_type": "markdown",
      "metadata": {
        "id": "Bwz_8kTZ6UVF"
      },
      "source": [
        "###**7. Visualizing the Reviews**\n",
        "\n",
        "In this section, we will view the effects of padding the dataset. \n",
        "\n",
        "As mentioned before, Keras already preprocessed the corpus. In this preprocessed corpus, all the words have already been mapped to indices and were assigned these numbers in order of their frequency such that index 2 is the 2nd most frequent word in the dataset, and so on. However, when we loaded our training dataset, we reserved the first 3 indices - 0, 1, 2 - for \\<PAD\\>, \\<START\\> and \\<UNK\\>. Additionally, we limited our vocabulary to only the top 10000 most frequent words (9997 if you exclude the padding). We will now visualize what a movie review will look like with these changes\n",
        "\n"
      ]
    },
    {
      "cell_type": "markdown",
      "metadata": {
        "id": "lOmorAwXGZS9"
      },
      "source": [
        "\n",
        "**Step 1: Create a word2idx dictionary**\n",
        "\n",
        "Create the word2idx dictionary using the following lines of code."
      ]
    },
    {
      "cell_type": "code",
      "metadata": {
        "id": "AtU7lOD6GYtB",
        "colab": {
          "base_uri": "https://localhost:8080/"
        },
        "outputId": "0c0b13bb-23b9-425e-ffc6-ce3176b49b48"
      },
      "source": [
        "# in this dictionary, the words start from 1, 0 is reserved for padding but \n",
        "# <start> and <unknown> are not accounted for.\n",
        "word_indices = imdb.get_word_index()\n",
        "\n",
        "# so we shift each original word two places to make room for the two new tokens\n",
        "offset = 2\n",
        "word2idx = {k:(v+offset) for k,v in word_indices.items() if v < 9998}\n",
        "word2idx[\"<PAD>\"] = 0\n",
        "word2idx[\"<START>\"] = 1\n",
        "word2idx[\"<UNK>\"] = 2"
      ],
      "execution_count": null,
      "outputs": [
        {
          "output_type": "stream",
          "name": "stdout",
          "text": [
            "Downloading data from https://storage.googleapis.com/tensorflow/tf-keras-datasets/imdb_word_index.json\n",
            "1646592/1641221 [==============================] - 0s 0us/step\n",
            "1654784/1641221 [==============================] - 0s 0us/step\n"
          ]
        }
      ]
    },
    {
      "cell_type": "markdown",
      "metadata": {
        "id": "H3oZeE74HCvL"
      },
      "source": [
        "\n",
        "**Step 2: Create a the idx2word dictionary**"
      ]
    },
    {
      "cell_type": "code",
      "metadata": {
        "id": "F0sWRDRIHIzp"
      },
      "source": [
        "# YOUR CODE GOES HERE\n",
        "idx2word = {idx: words for words, idx in word2idx.items()}"
      ],
      "execution_count": null,
      "outputs": []
    },
    {
      "cell_type": "markdown",
      "metadata": {
        "id": "p7aGrCU1HTN0"
      },
      "source": [
        "\n",
        "**Step 3: Visualize sample review**\n",
        "\n",
        "View a sample review text using the lines of code below:"
      ]
    },
    {
      "cell_type": "code",
      "metadata": {
        "colab": {
          "base_uri": "https://localhost:8080/"
        },
        "id": "TgRbMGG3G8jb",
        "outputId": "106094fe-9dad-4e91-e398-30151fc77a99"
      },
      "source": [
        "print(' '.join(idx2word[idx] for idx in train_data[0]))"
      ],
      "execution_count": null,
      "outputs": [
        {
          "output_type": "stream",
          "name": "stdout",
          "text": [
            "<START> this film was just brilliant casting location scenery story direction everyone's really suited the part they played and you could just imagine being there robert <UNK> is an amazing actor and now the same being director <UNK> father came from the same scottish island as myself so i loved the fact there was a real connection with this film the witty remarks throughout the film were great it was just brilliant so much that i bought the film as soon as it was released for <UNK> and would recommend it to everyone to watch and the fly fishing was amazing really cried at the end it was so sad and you know what they say if you cry at a film it must have been good and this definitely was also <UNK> to the two little boy's that played the <UNK> of norman and paul they were just brilliant children are often left out of the <UNK> list i think because the stars that play them all grown up are such a big profile for the whole film but these children are amazing and should be praised for what they have done don't you think the whole story was so lovely because it was true and was someone's life after all that was shared with us all\n"
          ]
        }
      ]
    },
    {
      "cell_type": "markdown",
      "metadata": {
        "id": "TFs4QSdFJrWL"
      },
      "source": [
        "###**8. Visualizing the Word_Embeddings**\n",
        "\n",
        "Visualize the word embeddings for 10 of the words using pandas DataFrame like we did in lab 3"
      ]
    },
    {
      "cell_type": "code",
      "metadata": {
        "id": "2IBvttx-J9re",
        "colab": {
          "base_uri": "https://localhost:8080/",
          "height": 392
        },
        "outputId": "98823952-e843-430c-d295-56eeba752639"
      },
      "source": [
        "# YOUR CODE GOES HERE\n",
        "import pandas as pd\n",
        "from pandas import DataFrame\n",
        "from IPython.display import display\n",
        "pd.options.display.max_columns = 10\n",
        "display(DataFrame(word_embeddings, index=idx2word.values()).head(10))"
      ],
      "execution_count": null,
      "outputs": [
        {
          "output_type": "display_data",
          "data": {
            "text/html": [
              "\n",
              "  <div id=\"df-948bd10e-cef3-424e-9818-9e6a7a5b9817\">\n",
              "    <div class=\"colab-df-container\">\n",
              "      <div>\n",
              "<style scoped>\n",
              "    .dataframe tbody tr th:only-of-type {\n",
              "        vertical-align: middle;\n",
              "    }\n",
              "\n",
              "    .dataframe tbody tr th {\n",
              "        vertical-align: top;\n",
              "    }\n",
              "\n",
              "    .dataframe thead th {\n",
              "        text-align: right;\n",
              "    }\n",
              "</style>\n",
              "<table border=\"1\" class=\"dataframe\">\n",
              "  <thead>\n",
              "    <tr style=\"text-align: right;\">\n",
              "      <th></th>\n",
              "      <th>0</th>\n",
              "      <th>1</th>\n",
              "      <th>2</th>\n",
              "      <th>3</th>\n",
              "      <th>4</th>\n",
              "      <th>...</th>\n",
              "      <th>95</th>\n",
              "      <th>96</th>\n",
              "      <th>97</th>\n",
              "      <th>98</th>\n",
              "      <th>99</th>\n",
              "    </tr>\n",
              "  </thead>\n",
              "  <tbody>\n",
              "    <tr>\n",
              "      <th>woods</th>\n",
              "      <td>-0.000117</td>\n",
              "      <td>0.017946</td>\n",
              "      <td>-0.011185</td>\n",
              "      <td>-0.007713</td>\n",
              "      <td>-0.023812</td>\n",
              "      <td>...</td>\n",
              "      <td>0.003199</td>\n",
              "      <td>-0.001018</td>\n",
              "      <td>-0.001056</td>\n",
              "      <td>-0.015582</td>\n",
              "      <td>-0.004548</td>\n",
              "    </tr>\n",
              "    <tr>\n",
              "      <th>hanging</th>\n",
              "      <td>0.011235</td>\n",
              "      <td>0.006468</td>\n",
              "      <td>-0.017000</td>\n",
              "      <td>0.019055</td>\n",
              "      <td>-0.010947</td>\n",
              "      <td>...</td>\n",
              "      <td>-0.008040</td>\n",
              "      <td>0.020040</td>\n",
              "      <td>-0.018575</td>\n",
              "      <td>0.022410</td>\n",
              "      <td>-0.013473</td>\n",
              "    </tr>\n",
              "    <tr>\n",
              "      <th>woody</th>\n",
              "      <td>-0.004363</td>\n",
              "      <td>0.008289</td>\n",
              "      <td>0.000364</td>\n",
              "      <td>0.021613</td>\n",
              "      <td>-0.010972</td>\n",
              "      <td>...</td>\n",
              "      <td>-0.017974</td>\n",
              "      <td>0.020363</td>\n",
              "      <td>0.018588</td>\n",
              "      <td>0.006957</td>\n",
              "      <td>-0.006794</td>\n",
              "    </tr>\n",
              "    <tr>\n",
              "      <th>arranged</th>\n",
              "      <td>-0.006906</td>\n",
              "      <td>0.010869</td>\n",
              "      <td>-0.002573</td>\n",
              "      <td>-0.020614</td>\n",
              "      <td>0.006199</td>\n",
              "      <td>...</td>\n",
              "      <td>-0.009147</td>\n",
              "      <td>0.016082</td>\n",
              "      <td>-0.009247</td>\n",
              "      <td>-0.014889</td>\n",
              "      <td>-0.028392</td>\n",
              "    </tr>\n",
              "    <tr>\n",
              "      <th>bringing</th>\n",
              "      <td>0.013023</td>\n",
              "      <td>-0.001899</td>\n",
              "      <td>0.007824</td>\n",
              "      <td>0.015944</td>\n",
              "      <td>-0.011302</td>\n",
              "      <td>...</td>\n",
              "      <td>-0.022724</td>\n",
              "      <td>-0.006283</td>\n",
              "      <td>0.009416</td>\n",
              "      <td>0.001611</td>\n",
              "      <td>-0.001124</td>\n",
              "    </tr>\n",
              "    <tr>\n",
              "      <th>wooden</th>\n",
              "      <td>0.009313</td>\n",
              "      <td>-0.011699</td>\n",
              "      <td>0.015990</td>\n",
              "      <td>0.012871</td>\n",
              "      <td>0.006262</td>\n",
              "      <td>...</td>\n",
              "      <td>0.005189</td>\n",
              "      <td>-0.012286</td>\n",
              "      <td>-0.000245</td>\n",
              "      <td>-0.016668</td>\n",
              "      <td>-0.012613</td>\n",
              "    </tr>\n",
              "    <tr>\n",
              "      <th>errors</th>\n",
              "      <td>-0.007666</td>\n",
              "      <td>-0.020862</td>\n",
              "      <td>0.028455</td>\n",
              "      <td>-0.021285</td>\n",
              "      <td>0.006857</td>\n",
              "      <td>...</td>\n",
              "      <td>0.024257</td>\n",
              "      <td>-0.019767</td>\n",
              "      <td>-0.004810</td>\n",
              "      <td>0.008680</td>\n",
              "      <td>0.014081</td>\n",
              "    </tr>\n",
              "    <tr>\n",
              "      <th>dialogs</th>\n",
              "      <td>-0.015788</td>\n",
              "      <td>-0.006587</td>\n",
              "      <td>0.005321</td>\n",
              "      <td>0.019739</td>\n",
              "      <td>-0.014691</td>\n",
              "      <td>...</td>\n",
              "      <td>0.002277</td>\n",
              "      <td>-0.000943</td>\n",
              "      <td>-0.001521</td>\n",
              "      <td>-0.002772</td>\n",
              "      <td>-0.013544</td>\n",
              "    </tr>\n",
              "    <tr>\n",
              "      <th>kids</th>\n",
              "      <td>-0.022068</td>\n",
              "      <td>-0.013539</td>\n",
              "      <td>0.015680</td>\n",
              "      <td>-0.004567</td>\n",
              "      <td>0.006598</td>\n",
              "      <td>...</td>\n",
              "      <td>-0.002620</td>\n",
              "      <td>-0.004581</td>\n",
              "      <td>-0.005351</td>\n",
              "      <td>-0.016945</td>\n",
              "      <td>-0.019037</td>\n",
              "    </tr>\n",
              "    <tr>\n",
              "      <th>uplifting</th>\n",
              "      <td>-0.014509</td>\n",
              "      <td>-0.024773</td>\n",
              "      <td>0.032108</td>\n",
              "      <td>-0.001215</td>\n",
              "      <td>-0.015602</td>\n",
              "      <td>...</td>\n",
              "      <td>0.000304</td>\n",
              "      <td>-0.019513</td>\n",
              "      <td>0.016988</td>\n",
              "      <td>-0.030919</td>\n",
              "      <td>-0.024130</td>\n",
              "    </tr>\n",
              "  </tbody>\n",
              "</table>\n",
              "<p>10 rows × 100 columns</p>\n",
              "</div>\n",
              "      <button class=\"colab-df-convert\" onclick=\"convertToInteractive('df-948bd10e-cef3-424e-9818-9e6a7a5b9817')\"\n",
              "              title=\"Convert this dataframe to an interactive table.\"\n",
              "              style=\"display:none;\">\n",
              "        \n",
              "  <svg xmlns=\"http://www.w3.org/2000/svg\" height=\"24px\"viewBox=\"0 0 24 24\"\n",
              "       width=\"24px\">\n",
              "    <path d=\"M0 0h24v24H0V0z\" fill=\"none\"/>\n",
              "    <path d=\"M18.56 5.44l.94 2.06.94-2.06 2.06-.94-2.06-.94-.94-2.06-.94 2.06-2.06.94zm-11 1L8.5 8.5l.94-2.06 2.06-.94-2.06-.94L8.5 2.5l-.94 2.06-2.06.94zm10 10l.94 2.06.94-2.06 2.06-.94-2.06-.94-.94-2.06-.94 2.06-2.06.94z\"/><path d=\"M17.41 7.96l-1.37-1.37c-.4-.4-.92-.59-1.43-.59-.52 0-1.04.2-1.43.59L10.3 9.45l-7.72 7.72c-.78.78-.78 2.05 0 2.83L4 21.41c.39.39.9.59 1.41.59.51 0 1.02-.2 1.41-.59l7.78-7.78 2.81-2.81c.8-.78.8-2.07 0-2.86zM5.41 20L4 18.59l7.72-7.72 1.47 1.35L5.41 20z\"/>\n",
              "  </svg>\n",
              "      </button>\n",
              "      \n",
              "  <style>\n",
              "    .colab-df-container {\n",
              "      display:flex;\n",
              "      flex-wrap:wrap;\n",
              "      gap: 12px;\n",
              "    }\n",
              "\n",
              "    .colab-df-convert {\n",
              "      background-color: #E8F0FE;\n",
              "      border: none;\n",
              "      border-radius: 50%;\n",
              "      cursor: pointer;\n",
              "      display: none;\n",
              "      fill: #1967D2;\n",
              "      height: 32px;\n",
              "      padding: 0 0 0 0;\n",
              "      width: 32px;\n",
              "    }\n",
              "\n",
              "    .colab-df-convert:hover {\n",
              "      background-color: #E2EBFA;\n",
              "      box-shadow: 0px 1px 2px rgba(60, 64, 67, 0.3), 0px 1px 3px 1px rgba(60, 64, 67, 0.15);\n",
              "      fill: #174EA6;\n",
              "    }\n",
              "\n",
              "    [theme=dark] .colab-df-convert {\n",
              "      background-color: #3B4455;\n",
              "      fill: #D2E3FC;\n",
              "    }\n",
              "\n",
              "    [theme=dark] .colab-df-convert:hover {\n",
              "      background-color: #434B5C;\n",
              "      box-shadow: 0px 1px 3px 1px rgba(0, 0, 0, 0.15);\n",
              "      filter: drop-shadow(0px 1px 2px rgba(0, 0, 0, 0.3));\n",
              "      fill: #FFFFFF;\n",
              "    }\n",
              "  </style>\n",
              "\n",
              "      <script>\n",
              "        const buttonEl =\n",
              "          document.querySelector('#df-948bd10e-cef3-424e-9818-9e6a7a5b9817 button.colab-df-convert');\n",
              "        buttonEl.style.display =\n",
              "          google.colab.kernel.accessAllowed ? 'block' : 'none';\n",
              "\n",
              "        async function convertToInteractive(key) {\n",
              "          const element = document.querySelector('#df-948bd10e-cef3-424e-9818-9e6a7a5b9817');\n",
              "          const dataTable =\n",
              "            await google.colab.kernel.invokeFunction('convertToInteractive',\n",
              "                                                     [key], {});\n",
              "          if (!dataTable) return;\n",
              "\n",
              "          const docLinkHtml = 'Like what you see? Visit the ' +\n",
              "            '<a target=\"_blank\" href=https://colab.research.google.com/notebooks/data_table.ipynb>data table notebook</a>'\n",
              "            + ' to learn more about interactive tables.';\n",
              "          element.innerHTML = '';\n",
              "          dataTable['output_type'] = 'display_data';\n",
              "          await google.colab.output.renderOutput(dataTable, element);\n",
              "          const docLink = document.createElement('div');\n",
              "          docLink.innerHTML = docLinkHtml;\n",
              "          element.appendChild(docLink);\n",
              "        }\n",
              "      </script>\n",
              "    </div>\n",
              "  </div>\n",
              "  "
            ],
            "text/plain": [
              "                 0         1         2         3         4   ...        95  \\\n",
              "woods     -0.000117  0.017946 -0.011185 -0.007713 -0.023812  ...  0.003199   \n",
              "hanging    0.011235  0.006468 -0.017000  0.019055 -0.010947  ... -0.008040   \n",
              "woody     -0.004363  0.008289  0.000364  0.021613 -0.010972  ... -0.017974   \n",
              "arranged  -0.006906  0.010869 -0.002573 -0.020614  0.006199  ... -0.009147   \n",
              "bringing   0.013023 -0.001899  0.007824  0.015944 -0.011302  ... -0.022724   \n",
              "wooden     0.009313 -0.011699  0.015990  0.012871  0.006262  ...  0.005189   \n",
              "errors    -0.007666 -0.020862  0.028455 -0.021285  0.006857  ...  0.024257   \n",
              "dialogs   -0.015788 -0.006587  0.005321  0.019739 -0.014691  ...  0.002277   \n",
              "kids      -0.022068 -0.013539  0.015680 -0.004567  0.006598  ... -0.002620   \n",
              "uplifting -0.014509 -0.024773  0.032108 -0.001215 -0.015602  ...  0.000304   \n",
              "\n",
              "                 96        97        98        99  \n",
              "woods     -0.001018 -0.001056 -0.015582 -0.004548  \n",
              "hanging    0.020040 -0.018575  0.022410 -0.013473  \n",
              "woody      0.020363  0.018588  0.006957 -0.006794  \n",
              "arranged   0.016082 -0.009247 -0.014889 -0.028392  \n",
              "bringing  -0.006283  0.009416  0.001611 -0.001124  \n",
              "wooden    -0.012286 -0.000245 -0.016668 -0.012613  \n",
              "errors    -0.019767 -0.004810  0.008680  0.014081  \n",
              "dialogs   -0.000943 -0.001521 -0.002772 -0.013544  \n",
              "kids      -0.004581 -0.005351 -0.016945 -0.019037  \n",
              "uplifting -0.019513  0.016988 -0.030919 -0.024130  \n",
              "\n",
              "[10 rows x 100 columns]"
            ]
          },
          "metadata": {}
        }
      ]
    },
    {
      "cell_type": "markdown",
      "metadata": {
        "id": "k0fyfgvB90G5"
      },
      "source": [
        "###**9. Plot your Word Embeddings using t-SNE**\n"
      ]
    },
    {
      "cell_type": "code",
      "metadata": {
        "colab": {
          "base_uri": "https://localhost:8080/",
          "height": 552
        },
        "id": "JRPHIYEgGXRh",
        "outputId": "47593a0f-1898-4abd-a1d1-6a46e3532ac3"
      },
      "source": [
        "import numpy as np\n",
        "from sklearn.manifold import TSNE\n",
        "import matplotlib.pyplot as plt\n",
        "\n",
        "tsne = TSNE(perplexity=3, n_components=2, init='pca', n_iter=5000, method='exact')\n",
        "np.set_printoptions(suppress=True)\n",
        "plot_only = 50\n",
        "\n",
        "# don't plot the special tokens\n",
        "start = 3\n",
        "T = tsne.fit_transform(word_embeddings[start:plot_only, :])\n",
        "labels = [idx2word[i] for i in range(start, plot_only)]\n",
        "plt.figure(figsize=(14, 8))\n",
        "plt.scatter(T[:, 0], T[:, 1])\n",
        "for label, x, y in zip(labels, T[:, 0], T[:, 1]):\n",
        "    plt.annotate(label, xy=(x+1, y+1), xytext=(0, 0), textcoords='offset points', ha='right', va='bottom')                      \t                        \n"
      ],
      "execution_count": null,
      "outputs": [
        {
          "output_type": "stream",
          "name": "stderr",
          "text": [
            "/usr/local/lib/python3.7/dist-packages/sklearn/manifold/_t_sne.py:793: FutureWarning: The default learning rate in TSNE will change from 200.0 to 'auto' in 1.2.\n",
            "  FutureWarning,\n",
            "/usr/local/lib/python3.7/dist-packages/sklearn/manifold/_t_sne.py:986: FutureWarning: The PCA initialization in TSNE will change to have the standard deviation of PC1 equal to 1e-4 in 1.2. This will ensure better convergence.\n",
            "  FutureWarning,\n"
          ]
        },
        {
          "output_type": "display_data",
          "data": {
            "image/png": "[encoded data removed]",
            "text/plain": [
              "<Figure size 1008x576 with 1 Axes>"
            ]
          },
          "metadata": {
            "needs_background": "light"
          }
        }
      ]
    },
    {
      "cell_type": "markdown",
      "metadata": {
        "id": "sHdy4PDVO8TN"
      },
      "source": [
        "###**10. Questions**\n",
        "\n",
        "1. Create a new model that is a copy of the model step 3. To this new model,add two dropout layers, one between the embedding layer and the LSTM layer and another between the LSTM layer and the output layer. Repeat steps 4 and 5 for this model. What do you observe?\n",
        "\n",
        "2. Experiment with training the model with batch sizes of 1, 32, len(training_data). What do you observe?\n",
        "\n",
        "3. (optional) Can you retrain with a Bidirectional LSTM instead of an LSTM? What do you observe about the Bi-LSTM model?\n"
      ]
    },
    {
      "cell_type": "markdown",
      "source": [
        "Question 1"
      ],
      "metadata": {
        "id": "PEJGKOjgnp-0"
      }
    },
    {
      "cell_type": "code",
      "metadata": {
        "id": "dxvb_lmHZ0Qm"
      },
      "source": [
        "import tensorflow as tf\n",
        "from keras.layers import Input, Embedding, Dense, LSTM, Dropout\n",
        "from keras.models import Model\n",
        "\n",
        "EMBED_SIZE = 100\n",
        "\n",
        "# The input is an array of target indices e.g. [2, 45, 7, 23,...9]\n",
        "input = Input((500,), dtype='int32')\n",
        "\n",
        "\n",
        "# feed the words into the model using the Keras <Embedding> layer. This is the hidden layer \n",
        "# from whose weights we will get the word embeddings.\n",
        "embedding = Embedding(VOCAB_SIZE, EMBED_SIZE, name='target_embed_layer',\n",
        "                        \tembeddings_initializer='glorot_uniform',\n",
        "                         \tinput_length=500, mask_zero=True)(input)\n",
        "dp1 = Dropout(0.2)(embedding)\n",
        "dp1_2 = Dropout(0.3)(embedding)\n",
        "\n",
        "lstm = tf.keras.layers.LSTM(100, return_sequences=False)(dp1)\n",
        "lstm2 = tf.keras.layers.LSTM(100, return_sequences=False)(dp1_2)\n",
        "\n",
        "dp2 = Dropout(0.2)(lstm)\n",
        "dp2_2 = Dropout(0.3)(lstm2) \n",
        "\n",
        "\n",
        "outputq1 = Dense(1, activation='sigmoid')(dp2)  #using sigmoid as it had best accuracy when tested previously\n",
        "outputq1_2 =  Dense(1, activation='sigmoid')(dp2_2)\n",
        "\n",
        "modelq1 = Model(inputs=[input], outputs=[outputq1])\n",
        "modelq1_2 = Model(inputs=[input], outputs=[outputq1_2])  # another model with drop (0.3)\n",
        "\n",
        "modelq1.compile(loss='binary_crossentropy', optimizer='adam', metrics=['accuracy'])\n",
        "modelq1_2.compile(loss='binary_crossentropy', optimizer='adam', metrics=['accuracy'])"
      ],
      "execution_count": null,
      "outputs": []
    },
    {
      "cell_type": "code",
      "source": [
        "modelq1.summary()"
      ],
      "metadata": {
        "colab": {
          "base_uri": "https://localhost:8080/"
        },
        "id": "x5qelZC6qZQP",
        "outputId": "f23e20e3-1126-4a5a-95f3-d69be8ae078a"
      },
      "execution_count": null,
      "outputs": [
        {
          "output_type": "stream",
          "name": "stdout",
          "text": [
            "Model: \"model_6\"\n",
            "_________________________________________________________________\n",
            " Layer (type)                Output Shape              Param #   \n",
            "=================================================================\n",
            " input_5 (InputLayer)        [(None, 500)]             0         \n",
            "                                                                 \n",
            " target_embed_layer (Embeddi  (None, 500, 100)         1000000   \n",
            " ng)                                                             \n",
            "                                                                 \n",
            " dropout_6 (Dropout)         (None, 500, 100)          0         \n",
            "                                                                 \n",
            " lstm_4 (LSTM)               (None, 100)               80400     \n",
            "                                                                 \n",
            " dropout_7 (Dropout)         (None, 100)               0         \n",
            "                                                                 \n",
            " dense_6 (Dense)             (None, 1)                 101       \n",
            "                                                                 \n",
            "=================================================================\n",
            "Total params: 1,080,501\n",
            "Trainable params: 1,080,501\n",
            "Non-trainable params: 0\n",
            "_________________________________________________________________\n"
          ]
        }
      ]
    },
    {
      "cell_type": "code",
      "source": [
        "modelq1_2.summary()"
      ],
      "metadata": {
        "colab": {
          "base_uri": "https://localhost:8080/"
        },
        "id": "kXPNAhPykNdi",
        "outputId": "fab6bc34-c0fc-46f0-f1da-0c818bc77fde"
      },
      "execution_count": null,
      "outputs": [
        {
          "output_type": "stream",
          "name": "stdout",
          "text": [
            "Model: \"model_5\"\n",
            "_________________________________________________________________\n",
            " Layer (type)                Output Shape              Param #   \n",
            "=================================================================\n",
            " input_3 (InputLayer)        [(None, 500)]             0         \n",
            "                                                                 \n",
            " target_embed_layer (Embeddi  (None, 500, 100)         1000000   \n",
            " ng)                                                             \n",
            "                                                                 \n",
            " dropout_3 (Dropout)         (None, 500, 100)          0         \n",
            "                                                                 \n",
            " lstm_3 (LSTM)               (None, 100)               80400     \n",
            "                                                                 \n",
            " dropout_5 (Dropout)         (None, 100)               0         \n",
            "                                                                 \n",
            " dense_5 (Dense)             (None, 1)                 101       \n",
            "                                                                 \n",
            "=================================================================\n",
            "Total params: 1,080,501\n",
            "Trainable params: 1,080,501\n",
            "Non-trainable params: 0\n",
            "_________________________________________________________________\n"
          ]
        }
      ]
    },
    {
      "cell_type": "code",
      "source": [
        "historyq1 = modelq1.fit(train_x, train_y, epochs=6, batch_size=1000, validation_data=(validation_x, validation_y))"
      ],
      "metadata": {
        "colab": {
          "base_uri": "https://localhost:8080/"
        },
        "id": "oCsW5ow0okQb",
        "outputId": "b182adc1-bada-494a-a3e4-6dc618f20ce4"
      },
      "execution_count": null,
      "outputs": [
        {
          "output_type": "stream",
          "name": "stdout",
          "text": [
            "Epoch 1/6\n",
            "23/23 [==============================] - 15s 645ms/step - loss: 0.2160 - accuracy: 0.9180 - val_loss: 0.3728 - val_accuracy: 0.8375\n",
            "Epoch 2/6\n",
            "23/23 [==============================] - 15s 628ms/step - loss: 0.1674 - accuracy: 0.9417 - val_loss: 0.3333 - val_accuracy: 0.8780\n",
            "Epoch 3/6\n",
            "23/23 [==============================] - 14s 625ms/step - loss: 0.1196 - accuracy: 0.9618 - val_loss: 0.3561 - val_accuracy: 0.8850\n",
            "Epoch 4/6\n",
            "23/23 [==============================] - 14s 625ms/step - loss: 0.0980 - accuracy: 0.9709 - val_loss: 0.3563 - val_accuracy: 0.8805\n",
            "Epoch 5/6\n",
            "23/23 [==============================] - 15s 640ms/step - loss: 0.0823 - accuracy: 0.9785 - val_loss: 0.3990 - val_accuracy: 0.8830\n",
            "Epoch 6/6\n",
            "23/23 [==============================] - 15s 638ms/step - loss: 0.0706 - accuracy: 0.9827 - val_loss: 0.3975 - val_accuracy: 0.8775\n"
          ]
        }
      ]
    },
    {
      "cell_type": "code",
      "source": [
        "historyq1_2 = modelq1_2.fit(train_x, train_y, epochs=6, batch_size=1000, validation_data=(validation_x, validation_y))"
      ],
      "metadata": {
        "colab": {
          "base_uri": "https://localhost:8080/"
        },
        "id": "OmTvdB3PkUvj",
        "outputId": "b8945b6b-6970-412c-88aa-04729d1610a4"
      },
      "execution_count": null,
      "outputs": [
        {
          "output_type": "stream",
          "name": "stdout",
          "text": [
            "Epoch 1/6\n",
            "23/23 [==============================] - 37s 1s/step - loss: 0.6392 - accuracy: 0.6509 - val_loss: 0.4862 - val_accuracy: 0.7785\n",
            "Epoch 2/6\n",
            "23/23 [==============================] - 23s 1000ms/step - loss: 0.3517 - accuracy: 0.8613 - val_loss: 0.3045 - val_accuracy: 0.8800\n",
            "Epoch 3/6\n",
            "23/23 [==============================] - 26s 1s/step - loss: 0.2316 - accuracy: 0.9138 - val_loss: 0.2693 - val_accuracy: 0.8885\n",
            "Epoch 4/6\n",
            "23/23 [==============================] - 29s 1s/step - loss: 0.1739 - accuracy: 0.9407 - val_loss: 0.2738 - val_accuracy: 0.8855\n",
            "Epoch 5/6\n",
            "23/23 [==============================] - 23s 1s/step - loss: 0.1417 - accuracy: 0.9527 - val_loss: 0.3216 - val_accuracy: 0.8675\n",
            "Epoch 6/6\n",
            "23/23 [==============================] - 23s 1s/step - loss: 0.1619 - accuracy: 0.9442 - val_loss: 0.3342 - val_accuracy: 0.8770\n"
          ]
        }
      ]
    },
    {
      "cell_type": "code",
      "source": [
        "# YOUR CODE TO EVALUATE THE MODEL ON TEST DATA GOES HERE\n",
        "\n",
        "resultsq1 = modelq1.evaluate(padded_test_data, test_labels)\n",
        "print('test_loss:', resultsq1[0], 'test_accuracy:', resultsq1[1])"
      ],
      "metadata": {
        "colab": {
          "base_uri": "https://localhost:8080/"
        },
        "id": "XvYp-LtiorUo",
        "outputId": "a1887adc-357d-4f1d-a553-2a33949d35ce"
      },
      "execution_count": null,
      "outputs": [
        {
          "output_type": "stream",
          "name": "stdout",
          "text": [
            "782/782 [==============================] - 64s 81ms/step - loss: 0.4393 - accuracy: 0.8606\n",
            "test_loss: 0.43934616446495056 test_accuracy: 0.8605599999427795\n"
          ]
        }
      ]
    },
    {
      "cell_type": "code",
      "source": [
        "resultsq1_2 = modelq1_2.evaluate(padded_test_data, test_labels)\n",
        "print('test_loss:', resultsq1_2[0], 'test_accuracy:', resultsq1_2[1])"
      ],
      "metadata": {
        "colab": {
          "base_uri": "https://localhost:8080/"
        },
        "id": "LqbPwKu9lkgs",
        "outputId": "914a87d5-f128-42ae-f9ba-52e95bebe544"
      },
      "execution_count": null,
      "outputs": [
        {
          "output_type": "stream",
          "name": "stdout",
          "text": [
            "782/782 [==============================] - 102s 130ms/step - loss: 0.3711 - accuracy: 0.8589\n",
            "test_loss: 0.3710888624191284 test_accuracy: 0.8589199781417847\n"
          ]
        }
      ]
    },
    {
      "cell_type": "markdown",
      "source": [
        "## Adding two droput layer have incresaed our test dat aaccuracy by a very small margin. 85.6-->86 (with dropout (0.2) whereas 85.6 to 85.89 (with dropout (0.3))"
      ],
      "metadata": {
        "id": "DV8jJWEDq1ap"
      }
    },
    {
      "cell_type": "markdown",
      "source": [
        "Question 2"
      ],
      "metadata": {
        "id": "aR4JrerfpHtL"
      }
    },
    {
      "cell_type": "code",
      "source": [
        "historyq1x = modelq1.fit(train_x[:300], train_y[:300], epochs=6, batch_size=1, validation_data=(validation_x[:300], validation_y[:300]))"
      ],
      "metadata": {
        "id": "nyEJIWLWqs3N",
        "colab": {
          "base_uri": "https://localhost:8080/"
        },
        "outputId": "94966af4-b8bb-41ad-9670-61f70562c7d5"
      },
      "execution_count": null,
      "outputs": [
        {
          "output_type": "stream",
          "name": "stdout",
          "text": [
            "Epoch 1/6\n",
            "300/300 [==============================] - 285s 952ms/step - loss: 0.1413 - accuracy: 0.9533 - val_loss: 0.9668 - val_accuracy: 0.6833\n",
            "Epoch 2/6\n",
            "300/300 [==============================] - 278s 927ms/step - loss: 0.0349 - accuracy: 0.9900 - val_loss: 0.9086 - val_accuracy: 0.7167\n",
            "Epoch 3/6\n",
            "300/300 [==============================] - 278s 925ms/step - loss: 0.0039 - accuracy: 1.0000 - val_loss: 1.0628 - val_accuracy: 0.7100\n",
            "Epoch 4/6\n",
            "300/300 [==============================] - 277s 924ms/step - loss: 0.0011 - accuracy: 1.0000 - val_loss: 1.2721 - val_accuracy: 0.7267\n",
            "Epoch 5/6\n",
            "300/300 [==============================] - 277s 925ms/step - loss: 4.9143e-04 - accuracy: 1.0000 - val_loss: 1.2685 - val_accuracy: 0.7233\n",
            "Epoch 6/6\n",
            "300/300 [==============================] - 316s 1s/step - loss: 2.8629e-04 - accuracy: 1.0000 - val_loss: 1.3684 - val_accuracy: 0.7267\n"
          ]
        }
      ]
    },
    {
      "cell_type": "code",
      "source": [
        "plot_history(historyq1x.history, path=\"standard.png\")\n",
        "plt.show()"
      ],
      "metadata": {
        "colab": {
          "base_uri": "https://localhost:8080/",
          "height": 385
        },
        "id": "m_DsfYI0zeHD",
        "outputId": "a7184210-8f08-4a28-e1d6-9314cf7ddc6c"
      },
      "execution_count": null,
      "outputs": [
        {
          "output_type": "display_data",
          "data": {
            "image/png": "[encoded data removed]",
            "text/plain": [
              "<Figure size 720x360 with 2 Axes>"
            ]
          },
          "metadata": {
            "needs_background": "light"
          }
        }
      ]
    },
    {
      "cell_type": "code",
      "source": [
        "historyq1y = modelq1.fit(train_x[:300], train_y[:300], epochs=6, batch_size=32, validation_data=(validation_x[:300], validation_y[:300]))"
      ],
      "metadata": {
        "colab": {
          "base_uri": "https://localhost:8080/"
        },
        "id": "TaDAhtRnpi0p",
        "outputId": "d5203b90-e99e-458c-bc6d-f7475fb2566b"
      },
      "execution_count": null,
      "outputs": [
        {
          "output_type": "stream",
          "name": "stdout",
          "text": [
            "Epoch 1/6\n",
            "10/10 [==============================] - 27s 2s/step - loss: 0.5411 - accuracy: 0.7367 - val_loss: 0.5857 - val_accuracy: 0.7033\n",
            "Epoch 2/6\n",
            "10/10 [==============================] - 45s 5s/step - loss: 0.4950 - accuracy: 0.7900 - val_loss: 0.5812 - val_accuracy: 0.7067\n",
            "Epoch 3/6\n",
            "10/10 [==============================] - 22s 2s/step - loss: 0.4477 - accuracy: 0.8233 - val_loss: 0.5762 - val_accuracy: 0.7067\n",
            "Epoch 4/6\n",
            "10/10 [==============================] - 22s 2s/step - loss: 0.4014 - accuracy: 0.8600 - val_loss: 0.5708 - val_accuracy: 0.7200\n",
            "Epoch 5/6\n",
            "10/10 [==============================] - 22s 2s/step - loss: 0.3432 - accuracy: 0.9067 - val_loss: 0.5647 - val_accuracy: 0.7200\n",
            "Epoch 6/6\n",
            "10/10 [==============================] - 23s 2s/step - loss: 0.2909 - accuracy: 0.9367 - val_loss: 0.5580 - val_accuracy: 0.7300\n"
          ]
        }
      ]
    },
    {
      "cell_type": "code",
      "source": [
        "plot_history(historyq1y.history, path=\"standard.png\")\n",
        "plt.show()"
      ],
      "metadata": {
        "colab": {
          "base_uri": "https://localhost:8080/",
          "height": 385
        },
        "id": "1_T14TIQzWTu",
        "outputId": "1eb6e300-b9fd-4316-aff0-b829d8f51d51"
      },
      "execution_count": null,
      "outputs": [
        {
          "output_type": "display_data",
          "data": {
            "image/png": "[encoded data removed]",
            "text/plain": [
              "<Figure size 720x360 with 2 Axes>"
            ]
          },
          "metadata": {
            "needs_background": "light"
          }
        }
      ]
    },
    {
      "cell_type": "code",
      "source": [
        "historyq1z = modelq1.fit(train_x[:300], train_y[:300], epochs=6, batch_size=len(train_x), validation_data=(validation_x[:300], validation_y[:300]))\n"
      ],
      "metadata": {
        "colab": {
          "base_uri": "https://localhost:8080/"
        },
        "id": "6oW40W-7pkTx",
        "outputId": "feb395d1-6ffe-43bc-fadc-47018eb270ee"
      },
      "execution_count": null,
      "outputs": [
        {
          "output_type": "stream",
          "name": "stdout",
          "text": [
            "Epoch 1/6\n",
            "1/1 [==============================] - 2s 2s/step - loss: 0.2171 - accuracy: 0.9667 - val_loss: 0.5518 - val_accuracy: 0.7267\n",
            "Epoch 2/6\n",
            "1/1 [==============================] - 2s 2s/step - loss: 0.2071 - accuracy: 0.9633 - val_loss: 0.5507 - val_accuracy: 0.7233\n",
            "Epoch 3/6\n",
            "1/1 [==============================] - 2s 2s/step - loss: 0.2027 - accuracy: 0.9700 - val_loss: 0.5496 - val_accuracy: 0.7233\n",
            "Epoch 4/6\n",
            "1/1 [==============================] - 2s 2s/step - loss: 0.1935 - accuracy: 0.9667 - val_loss: 0.5485 - val_accuracy: 0.7267\n",
            "Epoch 5/6\n",
            "1/1 [==============================] - 2s 2s/step - loss: 0.1897 - accuracy: 0.9667 - val_loss: 0.5473 - val_accuracy: 0.7267\n",
            "Epoch 6/6\n",
            "1/1 [==============================] - 2s 2s/step - loss: 0.1806 - accuracy: 0.9700 - val_loss: 0.5461 - val_accuracy: 0.7267\n"
          ]
        }
      ]
    },
    {
      "cell_type": "code",
      "source": [
        "plot_history(historyq1z.history, path=\"standard.png\")\n",
        "plt.show()"
      ],
      "metadata": {
        "colab": {
          "base_uri": "https://localhost:8080/",
          "height": 385
        },
        "id": "wPeWLwqWpy0g",
        "outputId": "ef034ffa-5f5f-41a6-e078-6e8474f56cfa"
      },
      "execution_count": null,
      "outputs": [
        {
          "output_type": "display_data",
          "data": {
            "image/png": "[encoded data removed]",
            "text/plain": [
              "<Figure size 720x360 with 2 Axes>"
            ]
          },
          "metadata": {
            "needs_background": "light"
          }
        }
      ]
    },
    {
      "cell_type": "markdown",
      "source": [
        "****Observations included in the report****\n"
      ],
      "metadata": {
        "id": "lEC_8NntkjtJ"
      }
    },
    {
      "cell_type": "code",
      "source": [
        ""
      ],
      "metadata": {
        "id": "2o4Vibj2klrX"
      },
      "execution_count": null,
      "outputs": []
    }
  ]
}